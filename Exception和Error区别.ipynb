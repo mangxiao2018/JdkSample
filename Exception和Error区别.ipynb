{
 "cells": [
  {
   "attachments": {},
   "cell_type": "markdown",
   "metadata": {},
   "source": [
    "# Exception与Error"
   ]
  },
  {
   "cell_type": "markdown",
   "metadata": {},
   "source": [
    "![image.png](./images/throwables.jpg)"
   ]
  },
  {
   "cell_type": "markdown",
   "metadata": {},
   "source": [
    "## 1、共同点"
   ]
  },
  {
   "cell_type": "markdown",
   "metadata": {},
   "source": [
    "Exception与Error都继承了Throwable类。"
   ]
  },
  {
   "cell_type": "markdown",
   "metadata": {},
   "source": [
    "## 2、区分点"
   ]
  },
  {
   "cell_type": "markdown",
   "metadata": {},
   "source": [
    "Error是指不大可能出现的情况，绝大部分的ERROR都会导致程序处于非正常的、不可恢复状态。如JVM蹦了，如OutOfMemoryError等"
   ]
  },
  {
   "cell_type": "markdown",
   "metadata": {},
   "source": [
    "Exception又分为可检查异常和不检查异常。可检查异常是在编译期检查的。不可检查异常就是我们常用的运行时异常，如NullPointerException、ArrayIndexOutOfBoundsException等，需要在编码时处理的。"
   ]
  },
  {
   "cell_type": "markdown",
   "metadata": {},
   "source": [
    "## 3、异常处理原则"
   ]
  },
  {
   "cell_type": "markdown",
   "metadata": {},
   "source": [
    "1、尽量不要捕获类似Exception这样的通用异常，而是捕获更细粒度的特定异常。"
   ]
  },
  {
   "cell_type": "markdown",
   "metadata": {},
   "source": [
    "2、不要生吞异常。"
   ]
  },
  {
   "cell_type": "markdown",
   "metadata": {},
   "source": [
    "3、有处理异常信息时，不要直接打出e.getStackTrace(),替代的打印出具体的类及方式以及e.getMessage()信息"
   ]
  },
  {
   "cell_type": "markdown",
   "metadata": {},
   "source": [
    "## 4、自定义异常"
   ]
  },
  {
   "cell_type": "markdown",
   "metadata": {},
   "source": [
    "自有项目特别是平台级的或common包中都会对Exception重新包一层来细分异常或增加业务异常，增加业务异常这个可以理解，那有的项目中只是包了一层，并没有太多的改变原来的异常体系，这个是为啥？后面通过查找资料再完善"
   ]
  },
  {
   "cell_type": "code",
   "execution_count": null,
   "metadata": {},
   "outputs": [],
   "source": []
  }
 ],
 "metadata": {
  "kernelspec": {
   "display_name": "Java",
   "language": "java",
   "name": "java"
  },
  "language_info": {
   "codemirror_mode": "java",
   "file_extension": ".jshell",
   "mimetype": "text/x-java-source",
   "name": "Java",
   "pygments_lexer": "java",
   "version": "14.0.2+12-46"
  }
 },
 "nbformat": 4,
 "nbformat_minor": 4
}
